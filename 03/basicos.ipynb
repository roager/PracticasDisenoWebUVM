{
 "cells": [
  {
   "cell_type": "markdown",
   "metadata": {},
   "source": [
    "# Introducción a la programación"
   ]
  },
  {
   "cell_type": "markdown",
   "metadata": {},
   "source": [
    "## ¿Qué es la programación?\n",
    "\n",
    "La programación consiste en crear instrucciones para que una computadora realice tareas específicas."
   ]
  },
  {
   "cell_type": "code",
   "execution_count": 1,
   "metadata": {},
   "outputs": [
    {
     "name": "stdout",
     "output_type": "stream",
     "text": [
      "¡Hola, mundo!\n"
     ]
    }
   ],
   "source": [
    "# Ejemplo básico: Mostrar un mensaje en la consola\n",
    "print(\"¡Hola, mundo!\")"
   ]
  },
  {
   "cell_type": "markdown",
   "metadata": {},
   "source": [
    "## ¿Qué es un lenguaje de programación?\n",
    "\n",
    "Un lenguaje de programación es un conjunto de reglas y símbolos que permiten comunicarnos con la computadora."
   ]
  },
  {
   "cell_type": "code",
   "execution_count": 2,
   "metadata": {},
   "outputs": [
    {
     "name": "stdout",
     "output_type": "stream",
     "text": [
      "Valor de x: 5\n",
      "Valor de y: 3.14\n",
      "Suma de x + y: 8.14\n"
     ]
    }
   ],
   "source": [
    "# Ejemplo de operaciones básicas\n",
    "x = 5  # Variable de tipo entero\n",
    "print(\"Valor de x:\", x)\n",
    "y = 3.14  # Variable de tipo flotante\n",
    "print(\"Valor de y:\", y)\n",
    "z = x + y\n",
    "print(\"Suma de x + y:\", z)"
   ]
  },
  {
   "cell_type": "markdown",
   "metadata": {},
   "source": [
    "## Clasificación de lenguajes de programación\n",
    "Lenguaje máquina, ensamblador y alto nivel"
   ]
  },
  {
   "cell_type": "code",
   "execution_count": 3,
   "metadata": {},
   "outputs": [
    {
     "name": "stdout",
     "output_type": "stream",
     "text": [
      "Hola número 1\n",
      "Hola número 2\n",
      "Hola número 3\n",
      "Hola número 4\n",
      "Hola número 5\n"
     ]
    }
   ],
   "source": [
    "# Ejemplo de un lenguaje de alto nivel (Python):\n",
    "for i in range(1, 6):\n",
    "    print(f\"Hola número {i}\")"
   ]
  },
  {
   "cell_type": "markdown",
   "metadata": {},
   "source": [
    "## Lenguajes de desarrollo web"
   ]
  },
  {
   "cell_type": "code",
   "execution_count": 5,
   "metadata": {},
   "outputs": [
    {
     "name": "stdout",
     "output_type": "stream",
     "text": [
      "Archivo HTML generado. Ábrelo en tu navegador.\n"
     ]
    }
   ],
   "source": [
    "\n",
    "# Ejemplo de HTML y CSS usando Python para escribir archivos\n",
    "\n",
    "html_code = \"\"\"\n",
    "<!DOCTYPE html>\n",
    "<html>\n",
    "<head>\n",
    "    <title>Mi Primera Página</title>\n",
    "    <style>\n",
    "        body {\n",
    "            font-family: Arial, sans-serif;\n",
    "            background-color: #f0f0f0;\n",
    "        }\n",
    "        h1 {\n",
    "            color: #333;\n",
    "        }\n",
    "    </style>\n",
    "</head>\n",
    "<body>\n",
    "    <h1>¡Hola, mundo!</h1>\n",
    "    <p>Esta es mi primera página web generada con Python.</p>\n",
    "</body>\n",
    "</html>\n",
    "\"\"\"\n",
    "\n",
    "# Escribir el archivo HTML\n",
    "with open(\"mi_primera_pagina.html\", \"w\") as file:\n",
    "    file.write(html_code)\n",
    "\n",
    "print(\"Archivo HTML generado. Ábrelo en tu navegador.\")\n"
   ]
  },
  {
   "cell_type": "markdown",
   "metadata": {},
   "source": [
    "## Algoritmos y Pseudocódigo\n",
    "Ejemplo de pseudocódigo convertido en Python"
   ]
  },
  {
   "cell_type": "code",
   "execution_count": 6,
   "metadata": {},
   "outputs": [
    {
     "name": "stdout",
     "output_type": "stream",
     "text": [
      "Lleva paraguas\n"
     ]
    }
   ],
   "source": [
    "# Pseudocódigo:\n",
    "# Si está lloviendo, entonces\n",
    "#     imprimir \"Lleva paraguas\"\n",
    "# Si no\n",
    "#     imprimir \"No necesitas paraguas\"\n",
    "\n",
    "llueve = True\n",
    "if llueve:\n",
    "    print(\"Lleva paraguas\")\n",
    "else:\n",
    "    print(\"No necesitas paraguas\")"
   ]
  },
  {
   "cell_type": "markdown",
   "metadata": {},
   "source": [
    "## Variables, Tipos de Datos y Operadores"
   ]
  },
  {
   "cell_type": "code",
   "execution_count": 7,
   "metadata": {},
   "outputs": [
    {
     "name": "stdout",
     "output_type": "stream",
     "text": [
      "Nombre: Juan, Edad: 25, Altura: 1.75\n"
     ]
    }
   ],
   "source": [
    "nombre = \"Juan\"\n",
    "edad = 25\n",
    "altura = 1.75\n",
    "\n",
    "print(f\"Nombre: {nombre}, Edad: {edad}, Altura: {altura}\")"
   ]
  },
  {
   "cell_type": "code",
   "execution_count": 8,
   "metadata": {},
   "outputs": [
    {
     "name": "stdout",
     "output_type": "stream",
     "text": [
      "Suma: 15, Resta: 5, Multiplicación: 50, División: 2.0, Módulo: 1\n"
     ]
    }
   ],
   "source": [
    "# Operadores básicos\n",
    "suma = 10 + 5\n",
    "resta = 10 - 5\n",
    "multiplicacion = 10 * 5\n",
    "division = 10 / 5\n",
    "modulo = 10 % 3\n",
    "\n",
    "print(f\"Suma: {suma}, Resta: {resta}, Multiplicación: {multiplicacion}, División: {division}, Módulo: {modulo}\")"
   ]
  },
  {
   "cell_type": "markdown",
   "metadata": {},
   "source": [
    "## Estructuras de Control de Flujo"
   ]
  },
  {
   "cell_type": "code",
   "execution_count": 2,
   "metadata": {},
   "outputs": [
    {
     "name": "stdout",
     "output_type": "stream",
     "text": [
      "El número es impar\n",
      "Iteración 0\n",
      "Iteración 1\n",
      "Iteración 2\n",
      "Iteración 3\n",
      "Iteración 4\n",
      "Contador: 0\n",
      "Contador: 1\n",
      "Contador: 2\n"
     ]
    }
   ],
   "source": [
    "# Condicionales\n",
    "numero = int(input(\"Escribe un número: \"))\n",
    "if numero % 2 == 0:\n",
    "    print(\"El número es par\")\n",
    "else:\n",
    "    print(\"El número es impar\")\n",
    "\n",
    "# Bucles\n",
    "for i in range(5):\n",
    "    print(f\"Iteración {i}\")\n",
    "\n",
    "contador = 0\n",
    "while contador < 3:\n",
    "    print(f\"Contador: {contador}\")\n",
    "    contador += 1"
   ]
  },
  {
   "cell_type": "markdown",
   "metadata": {},
   "source": []
  },
  {
   "cell_type": "code",
   "execution_count": null,
   "metadata": {},
   "outputs": [],
   "source": []
  }
 ],
 "metadata": {
  "kernelspec": {
   "display_name": "Python 3",
   "language": "python",
   "name": "python3"
  },
  "language_info": {
   "codemirror_mode": {
    "name": "ipython",
    "version": 3
   },
   "file_extension": ".py",
   "mimetype": "text/x-python",
   "name": "python",
   "nbconvert_exporter": "python",
   "pygments_lexer": "ipython3",
   "version": "3.10.12"
  }
 },
 "nbformat": 4,
 "nbformat_minor": 2
}
