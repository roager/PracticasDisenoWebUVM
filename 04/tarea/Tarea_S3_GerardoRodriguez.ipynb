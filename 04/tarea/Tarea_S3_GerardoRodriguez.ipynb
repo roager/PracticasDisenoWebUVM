{
 "cells": [
  {
   "cell_type": "markdown",
   "metadata": {},
   "source": [
    "SEMANA 3\n",
    "TAREA 1\n",
    "Gerardo Rodriguez\n",
    "\n",
    "Bootcamp Desarrollo Web\n",
    "\n",
    "Ejercicio 1: Registro de calificacionesSupón que necesitas registrar las calificaciones de los alumnos en una materia específica. \n",
    "Se te pide crear un programa que permita almacenar las notas de los alumnos y realice algunas operaciones básicas con estas notas.\n",
    "\n",
    "Requerimientos:\n",
    "•Crear un array para almacenar las calificaciones de 5 alumnos.\n",
    "•Pedir al usuario ingresar las calificaciones de los 5 alumnos.\n",
    "•Mostrar por pantalla todas las calificaciones ingresadas.\n",
    "•Calcular y mostrar el promedio de las calificaciones.\n",
    "•Pedir al usuario modificar la calificación de un alumno específico.\n",
    "•Mostrar por pantalla la lista actualizada de notas."
   ]
  },
  {
   "cell_type": "code",
   "execution_count": 9,
   "metadata": {},
   "outputs": [],
   "source": [
    "#Crear un array para almacenar las calificaciones de 5 alumnos.\n",
    "grades = []"
   ]
  },
  {
   "cell_type": "code",
   "execution_count": 17,
   "metadata": {},
   "outputs": [],
   "source": [
    "#Pedir al usuario ingresar las calificaciones de los 5 alumnos.\n",
    "\n",
    "def add_grades():\n",
    "    nombre = input(\"Hola!! Ingresa el nombre del usuario: \")\n",
    "    grade = int(input(\"Ahora ingresa la calificación: \"))\n",
    "    grades.append({\"Nombre\": nombre, \"Calificación\": grade})\n",
    "add_grades()\n"
   ]
  },
  {
   "cell_type": "code",
   "execution_count": 18,
   "metadata": {},
   "outputs": [
    {
     "name": "stdout",
     "output_type": "stream",
     "text": [
      "[{'Nombre': 'Ger', 'Calificación': 100}, {'Nombre': 'Mike', 'Calificación': 50}, {'Nombre': 'James', 'Calificación': 29}, {'Nombre': 'Petra', 'Calificación': 90}, {'Nombre': 'Elena', 'Calificación': 18}]\n"
     ]
    }
   ],
   "source": [
    "# Mostrar por pantalla todas las calificaciones ingresadas . \n",
    "print (grades)"
   ]
  },
  {
   "cell_type": "code",
   "execution_count": 25,
   "metadata": {},
   "outputs": [
    {
     "name": "stdout",
     "output_type": "stream",
     "text": [
      "57.4\n"
     ]
    }
   ],
   "source": [
    "# Calcular y mostrar el promedio de las calificaciones.\n",
    "\n",
    "def promedio():\n",
    "    numCalifiaciones = len(grades)\n",
    "    suma = 0\n",
    "    for i in range(numCalifiaciones):\n",
    "        suma = suma + grades[i][\"Calificación\"]\n",
    "        promedio = suma / numCalifiaciones\n",
    "    print (promedio)\n",
    "promedio()\n"
   ]
  },
  {
   "cell_type": "code",
   "execution_count": 32,
   "metadata": {},
   "outputs": [
    {
     "name": "stdout",
     "output_type": "stream",
     "text": [
      "La nueva calificación de Petra es 100\n"
     ]
    }
   ],
   "source": [
    "# Pedir al usuario modificar la calificación de un alumno específico.\n",
    "def modify_grade():\n",
    "    alumno = input(\"Escribe el usuario que vamos a modificar: \")\n",
    "    nueva_cali= int(input(\"Escribe la nueva calificación: \"))\n",
    "    for ajuste in grades:\n",
    "        if ajuste[\"Nombre\"] == alumno:\n",
    "            ajuste[\"Calificación\"] = nueva_cali\n",
    "    print (f\"La nueva calificación de {alumno} es {nueva_cali}\")\n",
    "    \n",
    "modify_grade()\n",
    "\n"
   ]
  },
  {
   "cell_type": "code",
   "execution_count": 33,
   "metadata": {},
   "outputs": [
    {
     "name": "stdout",
     "output_type": "stream",
     "text": [
      "[{'Nombre': 'Ger', 'Calificación': 95}, {'Nombre': 'Mike', 'Calificación': 50}, {'Nombre': 'James', 'Calificación': 29}, {'Nombre': 'Petra', 'Calificación': 100}, {'Nombre': 'Elena', 'Calificación': 18}]\n"
     ]
    }
   ],
   "source": [
    "# Mostrar por pantalla la lista actualizada de notas\n",
    "print (grades)\n"
   ]
  },
  {
   "cell_type": "code",
   "execution_count": null,
   "metadata": {},
   "outputs": [],
   "source": []
  }
 ],
 "metadata": {
  "kernelspec": {
   "display_name": "base",
   "language": "python",
   "name": "python3"
  },
  "language_info": {
   "codemirror_mode": {
    "name": "ipython",
    "version": 3
   },
   "file_extension": ".py",
   "mimetype": "text/x-python",
   "name": "python",
   "nbconvert_exporter": "python",
   "pygments_lexer": "ipython3",
   "version": "3.12.4"
  }
 },
 "nbformat": 4,
 "nbformat_minor": 2
}
