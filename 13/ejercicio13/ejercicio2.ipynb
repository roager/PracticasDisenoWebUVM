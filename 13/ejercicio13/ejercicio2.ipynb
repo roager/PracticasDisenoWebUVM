{
 "cells": [
  {
   "cell_type": "code",
   "execution_count": 2,
   "id": "bc18464f",
   "metadata": {},
   "outputs": [
    {
     "name": "stdout",
     "output_type": "stream",
     "text": [
      "La suma del conjunto de 1 a 10 es: 55\n"
     ]
    }
   ],
   "source": [
    "i = 0\n",
    "suma = 0  \n",
    "\n",
    "for i in range(1, 11):  \n",
    "    suma += i  \n",
    "print(f\"La suma del conjunto de 1 a 10 es: {suma}\")\n"
   ]
  }
 ],
 "metadata": {
  "kernelspec": {
   "display_name": "Python 3",
   "language": "python",
   "name": "python3"
  },
  "language_info": {
   "codemirror_mode": {
    "name": "ipython",
    "version": 3
   },
   "file_extension": ".py",
   "mimetype": "text/x-python",
   "name": "python",
   "nbconvert_exporter": "python",
   "pygments_lexer": "ipython3",
   "version": "3.13.2"
  }
 },
 "nbformat": 4,
 "nbformat_minor": 5
}
