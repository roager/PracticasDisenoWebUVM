{
 "cells": [
  {
   "cell_type": "code",
   "execution_count": 9,
   "id": "f94dd409",
   "metadata": {},
   "outputs": [
    {
     "name": "stdout",
     "output_type": "stream",
     "text": [
      "El valor ingresado de valorA es: 10\n"
     ]
    }
   ],
   "source": [
    "# Solicitar un valor al usuario\n",
    "valorA = input(\"Por favor, ingresa un valor para A: \")\n",
    "print(\"El valor ingresado de valorA es:\", valorA)\n"
   ]
  },
  {
   "cell_type": "code",
   "execution_count": 10,
   "id": "1fa7e460",
   "metadata": {},
   "outputs": [
    {
     "name": "stdout",
     "output_type": "stream",
     "text": [
      "El valor ingresado de valorB es: 11\n"
     ]
    }
   ],
   "source": [
    "valorB = input(\"Por favor, ingresa un valor para B: \")\n",
    "print(\"El valor ingresado de valorB es:\", valorB)"
   ]
  },
  {
   "cell_type": "code",
   "execution_count": 11,
   "id": "bb1c8e12",
   "metadata": {},
   "outputs": [
    {
     "name": "stdout",
     "output_type": "stream",
     "text": [
      "A es menor que B: 10 < 11\n"
     ]
    }
   ],
   "source": [
    "if valorA == valorB:\n",
    "    print(f\"A y B son iguales: {valorA} = {valorB}\")\n",
    "elif valorA > valorB:  \n",
    "    print(f\"A es mayor que B: {valorA} > {valorB}\")\n",
    "elif valorA < valorB:  \n",
    "    print(f\"A es menor que B: {valorA} < {valorB}\")\n",
    "else:\n",
    "    print(\"Los valores no son comparables.\")"
   ]
  }
 ],
 "metadata": {
  "kernelspec": {
   "display_name": "Python 3",
   "language": "python",
   "name": "python3"
  },
  "language_info": {
   "codemirror_mode": {
    "name": "ipython",
    "version": 3
   },
   "file_extension": ".py",
   "mimetype": "text/x-python",
   "name": "python",
   "nbconvert_exporter": "python",
   "pygments_lexer": "ipython3",
   "version": "3.13.2"
  }
 },
 "nbformat": 4,
 "nbformat_minor": 5
}
