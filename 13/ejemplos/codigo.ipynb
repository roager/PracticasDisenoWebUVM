{
 "cells": [
  {
   "cell_type": "code",
   "execution_count": 25,
   "metadata": {},
   "outputs": [
    {
     "name": "stdout",
     "output_type": "stream",
     "text": [
      "Ruta larga\n",
      "Este viaje no se puede hacer\n"
     ]
    }
   ],
   "source": [
    "distancia = 100\n",
    "auto = \"chico\"\n",
    "personas = 4\n",
    "\n",
    "if distancia > 50:\n",
    "    print(\"Ruta larga\")\n",
    "    # Supongamos que la primera evaluación es un\n",
    "    # proceso muy complejo\n",
    "    # El orden de ejecucion de las evaluaciones importa\n",
    "    if  (auto == \"chico\") and (personas >= 4) :\n",
    "        print(\"Este viaje no se puede hacer\")\n",
    "    else:\n",
    "        print(\"Ruta larga en auto chico\")\n",
    "            "
   ]
  },
  {
   "cell_type": "code",
   "execution_count": null,
   "metadata": {},
   "outputs": [],
   "source": [
    "alumnos = [\n",
    "    \"jorge\", \"charly\", \n",
    "    \"julio\", \"rogelio\"\n",
    "    ]"
   ]
  },
  {
   "cell_type": "code",
   "execution_count": null,
   "metadata": {},
   "outputs": [],
   "source": [
    "# Puedo partir una sentencia larga con una diagonal\n",
    "prueba = 1 + 2 + 3 + 4 + \\\n",
    "    5 + 6 + 7"
   ]
  },
  {
   "cell_type": "code",
   "execution_count": 54,
   "metadata": {},
   "outputs": [],
   "source": [
    "def area_circulo(radio: float) -> float:\n",
    "    \"\"\"\n",
    "    Funcion para calcular el area de un círculo\n",
    "    Recibe un radio y devuelve el area. \n",
    "    (El formato es reStructuredText)\n",
    "    \n",
    "    :param radio: el radio del circulo. \n",
    "    \"\"\"\n",
    "    \n",
    "    if not isinstance(radio, float):\n",
    "        raise ValueError(\"Solo trabajo con flotantes. \")\n",
    "    \n",
    "    # Este es el valor matemático de PI\n",
    "    PI = 3.1416\n",
    "    \n",
    "    return PI * radio * radio"
   ]
  },
  {
   "cell_type": "code",
   "execution_count": 55,
   "metadata": {},
   "outputs": [
    {
     "data": {
      "text/plain": [
       "78.54"
      ]
     },
     "execution_count": 55,
     "metadata": {},
     "output_type": "execute_result"
    }
   ],
   "source": [
    "area_circulo(5.)"
   ]
  },
  {
   "cell_type": "code",
   "execution_count": null,
   "metadata": {},
   "outputs": [],
   "source": [
    "diccionario_vacio = {}\n",
    "\n",
    "alumnos = {\n",
    "    \"jonathan\": {\n",
    "        \"calificacion\": 10,\n",
    "        \"clase\": \"programacion\"\n",
    "    },\n",
    "    \"jesus\": {\n",
    "        \"calificacion\": 9,\n",
    "        \"clase\": \"programacion\"\n",
    "    }\n",
    "}"
   ]
  },
  {
   "cell_type": "code",
   "execution_count": 2,
   "metadata": {},
   "outputs": [
    {
     "data": {
      "text/plain": [
       "{'calificacion': 10, 'clase': 'programacion'}"
      ]
     },
     "execution_count": 2,
     "metadata": {},
     "output_type": "execute_result"
    }
   ],
   "source": [
    "alumnos[\"jonathan\"]"
   ]
  },
  {
   "cell_type": "code",
   "execution_count": 3,
   "metadata": {},
   "outputs": [
    {
     "data": {
      "text/plain": [
       "10"
      ]
     },
     "execution_count": 3,
     "metadata": {},
     "output_type": "execute_result"
    }
   ],
   "source": [
    "alumnos[\"jonathan\"][\"calificacion\"]"
   ]
  },
  {
   "cell_type": "code",
   "execution_count": 17,
   "metadata": {},
   "outputs": [
    {
     "name": "stdout",
     "output_type": "stream",
     "text": [
      "{'calificacion': 10, 'clase': 'programacion'}\n"
     ]
    }
   ],
   "source": [
    "alumno = alumnos.get(\"jonathan\", diccionario_vacio)\n",
    "print(alumno)\n"
   ]
  },
  {
   "cell_type": "code",
   "execution_count": 18,
   "metadata": {},
   "outputs": [
    {
     "name": "stdout",
     "output_type": "stream",
     "text": [
      "Esto no esta\n"
     ]
    }
   ],
   "source": [
    "print(alumno.get(\"otra_cosa_123\", \"Esto no esta\"))"
   ]
  }
 ],
 "metadata": {
  "kernelspec": {
   "display_name": ".venv",
   "language": "python",
   "name": "python3"
  },
  "language_info": {
   "codemirror_mode": {
    "name": "ipython",
    "version": 3
   },
   "file_extension": ".py",
   "mimetype": "text/x-python",
   "name": "python",
   "nbconvert_exporter": "python",
   "pygments_lexer": "ipython3",
   "version": "3.10.12"
  }
 },
 "nbformat": 4,
 "nbformat_minor": 2
}
