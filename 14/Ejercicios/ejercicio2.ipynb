{
 "cells": [
  {
   "cell_type": "code",
   "execution_count": 1,
   "id": "45f40e37",
   "metadata": {},
   "outputs": [],
   "source": [
    "#Crea un programa en Python que permita a un profesor gestionar una lista de estudiantes. El programa debe ofrecer las siguientes opciones:\n",
    "estudiantes = {}"
   ]
  },
  {
   "cell_type": "code",
   "execution_count": 6,
   "id": "96c61fad",
   "metadata": {},
   "outputs": [
    {
     "data": {
      "text/plain": [
       "70.0"
      ]
     },
     "execution_count": 6,
     "metadata": {},
     "output_type": "execute_result"
    }
   ],
   "source": [
    "#Agregar un nuevo estudiante con su nombre y su calificación.\n",
    "estudiantes.setdefault(input(\"Ingrese el nombre del estudiante: \"), float(input(\"Ingrese la calificación del estudiante: \")))"
   ]
  },
  {
   "cell_type": "code",
   "execution_count": 7,
   "id": "a9101527",
   "metadata": {},
   "outputs": [
    {
     "name": "stdout",
     "output_type": "stream",
     "text": [
      "Lista de estudiantes y calificaciones:\n",
      "Gerardo: 100.0\n",
      "Mike: 90.0\n",
      "María: 70.0\n"
     ]
    }
   ],
   "source": [
    "#Mostrar la lista de estudiantes junto con sus calificaciones.\n",
    "print(\"Lista de estudiantes y calificaciones:\")\n",
    "for nombre, calificacion in estudiantes.items():\n",
    "    print(f\"{nombre}: {calificacion}\")  "
   ]
  },
  {
   "cell_type": "code",
   "execution_count": 11,
   "id": "90227049",
   "metadata": {},
   "outputs": [
    {
     "name": "stdout",
     "output_type": "stream",
     "text": [
      "El usuario María tiene calificación 70.0.\n"
     ]
    }
   ],
   "source": [
    "#Buscar un estudiante por nombre y mostrar su calificación.\n",
    "buscar = (input(\"¿Qué usuario deseas buscar? \"))\n",
    "if buscar in estudiantes:\n",
    "    print(f\"El usuario {buscar} tiene calificación {estudiantes[buscar]}.\")\n",
    "else:\n",
    "    print(f\"El usuario llamado {buscar} no está en la lista.\")"
   ]
  },
  {
   "cell_type": "code",
   "execution_count": 12,
   "id": "fe1a199f",
   "metadata": {},
   "outputs": [
    {
     "name": "stdout",
     "output_type": "stream",
     "text": [
      "El usuario María ha sido eliminado.\n"
     ]
    }
   ],
   "source": [
    "#Eliminar a un estudiante de la lista \n",
    "eliminar = (input(\"¿Qué usuario deseas eliminar? \"))\n",
    "if eliminar in estudiantes:\n",
    "    del estudiantes[eliminar]\n",
    "    print(f\"El usuario {eliminar} ha sido eliminado.\")\n",
    "\n"
   ]
  },
  {
   "cell_type": "code",
   "execution_count": 14,
   "id": "de4351a3",
   "metadata": {},
   "outputs": [
    {
     "name": "stdout",
     "output_type": "stream",
     "text": [
      "{'Gerardo': 100.0, 'Mike': 90.0}\n"
     ]
    }
   ],
   "source": [
    "print(estudiantes)  "
   ]
  }
 ],
 "metadata": {
  "kernelspec": {
   "display_name": "Python 3",
   "language": "python",
   "name": "python3"
  },
  "language_info": {
   "codemirror_mode": {
    "name": "ipython",
    "version": 3
   },
   "file_extension": ".py",
   "mimetype": "text/x-python",
   "name": "python",
   "nbconvert_exporter": "python",
   "pygments_lexer": "ipython3",
   "version": "3.13.2"
  }
 },
 "nbformat": 4,
 "nbformat_minor": 5
}
