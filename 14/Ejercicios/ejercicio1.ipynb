{
 "cells": [
  {
   "cell_type": "markdown",
   "id": "e0d24446",
   "metadata": {},
   "source": [
    "Ejercicio Semanal 1: \n",
    "Manipulación de Listas en Python\n",
    "Descripción: \n",
    "Escribe un programa en Python que solicite al usuario ingresar una lista de números enteros separados por comas. Luego, el programa debe:"
   ]
  },
  {
   "cell_type": "code",
   "execution_count": 4,
   "id": "0beae225",
   "metadata": {},
   "outputs": [
    {
     "name": "stdout",
     "output_type": "stream",
     "text": [
      "Vamos a generar una lista! Ingresa los valores separados por comas.\n",
      "Valores separados por comas:  ['1', '2', '3', '4', '5', '6', '7']\n"
     ]
    }
   ],
   "source": [
    "print(\"Vamos a generar una lista! Ingresa los valores separados por comas.\")\n",
    "\n",
    "valores = input(\"Valores: \")\n",
    "valores = valores.split(\",\")\n",
    "print(\"Valores separados por comas: \", valores)"
   ]
  },
  {
   "cell_type": "code",
   "execution_count": null,
   "id": "56fb4fc1",
   "metadata": {},
   "outputs": [
    {
     "name": "stdout",
     "output_type": "stream",
     "text": [
      "La longitud de la lista es:  7\n"
     ]
    }
   ],
   "source": [
    "#1. Mostrar la longitud de la lista ingresada\n",
    "longitud = len(valores) \n",
    "print(\"La longitud de la lista es: \", longitud) "
   ]
  },
  {
   "cell_type": "code",
   "execution_count": 7,
   "id": "2779c9f0",
   "metadata": {},
   "outputs": [
    {
     "name": "stdout",
     "output_type": "stream",
     "text": [
      "La suma de los valores es:  28\n"
     ]
    }
   ],
   "source": [
    "#2. Calcular y mostrar la suma de todos los números en la lista.\n",
    "for i in range(len(valores)):\n",
    "    valores[i] = int(valores[i])\n",
    "suma = sum(valores)\n",
    "print(\"La suma de los valores es: \", suma)"
   ]
  },
  {
   "cell_type": "code",
   "execution_count": 11,
   "id": "4d78728f",
   "metadata": {},
   "outputs": [
    {
     "name": "stdout",
     "output_type": "stream",
     "text": [
      "El valor 8 no está en la lista.\n"
     ]
    }
   ],
   "source": [
    "# 3. Verificar si un número específico ingresado por el usuario está presente en la lista. \n",
    "# Si está presente, mostrar su índice en la lista.\n",
    "buscar = int(input(\"¿Qué número deseas buscar? \"))\n",
    "if buscar in valores:\n",
    "    print(f\"El valor {buscar} está en la lista.\")\n",
    "else:\n",
    "    print(f\"El valor {buscar} no está en la lista.\")"
   ]
  },
  {
   "cell_type": "code",
   "execution_count": 12,
   "id": "e55c031f",
   "metadata": {},
   "outputs": [
    {
     "name": "stdout",
     "output_type": "stream",
     "text": [
      "La lista después de eliminar el último elemento es:  [1, 2, 3, 4, 5, 6]\n"
     ]
    }
   ],
   "source": [
    "# 4. Eliminar el último elemento de la lista y mostrar la lista actualizada\n",
    "valores.pop()\n",
    "print(\"La lista después de eliminar el último elemento es: \", valores)\n"
   ]
  }
 ],
 "metadata": {
  "kernelspec": {
   "display_name": "Python 3",
   "language": "python",
   "name": "python3"
  },
  "language_info": {
   "codemirror_mode": {
    "name": "ipython",
    "version": 3
   },
   "file_extension": ".py",
   "mimetype": "text/x-python",
   "name": "python",
   "nbconvert_exporter": "python",
   "pygments_lexer": "ipython3",
   "version": "3.13.2"
  }
 },
 "nbformat": 4,
 "nbformat_minor": 5
}
